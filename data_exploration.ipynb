{
 "cells": [
  {
   "cell_type": "markdown",
   "id": "28350b65-ddb5-4b70-a63e-15e816a3cdb7",
   "metadata": {},
   "source": [
    "# Data vizualisation\n",
    "\n",
    "In this notebook, we visualize that each step of the data preprocessing was performed correctly.\n",
    "\n",
    "## Imports"
   ]
  },
  {
   "cell_type": "code",
   "execution_count": 1,
   "id": "3045a1ec-4741-4258-87cb-2002a0e369d6",
   "metadata": {},
   "outputs": [
    {
     "name": "stderr",
     "output_type": "stream",
     "text": [
      "Gtk-Message: 12:42:29.345: Failed to load module \"canberra-gtk-module\"\n"
     ]
    }
   ],
   "source": [
    "%gui wx\n",
    "import sys\n",
    "import os\n",
    "\n"
   ]
  },
  {
   "cell_type": "code",
   "execution_count": 2,
   "id": "5f463c3b-fffe-41a1-a69a-37ce9d84bf3b",
   "metadata": {},
   "outputs": [],
   "source": [
    "#####################\n",
    "# Import of utils.py functions\n",
    "#####################\n",
    "# Required to get utils.py and access its functions\n",
    "notebook_dir = os.path.abspath(\"\")\n",
    "parent_dir = os.path.abspath(os.path.join(notebook_dir, '..'))\n",
    "sys.path.append(parent_dir)\n",
    "sys.path.append('.')\n",
    "from utils import loadFSL, FSLeyesServer, mkdir_no_exist, interactive_MCQ\n",
    "\n",
    "####################\n",
    "# DIPY_HOME should be set prior to import of dipy to make sure all downloads point to the right folder\n",
    "####################\n",
    "os.environ[\"DIPY_HOME\"] = \"/home/jovyan/Data\"\n",
    "\n",
    "\n",
    "\n"
   ]
  },
  {
   "cell_type": "code",
   "execution_count": 7,
   "id": "0a41468c-e0de-4fb1-8a39-baaadee61ff9",
   "metadata": {},
   "outputs": [
    {
     "data": {
      "text/plain": [
       "['fsl/6.0.7.4', 'freesurfer/7.4.1']"
      ]
     },
     "execution_count": 7,
     "metadata": {},
     "output_type": "execute_result"
    }
   ],
   "source": [
    "#############################\n",
    "# Loading fsl and freesurfer within Neurodesk\n",
    "# You can find the list of available other modules by clicking on the \"Softwares\" tab on the left\n",
    "#############################\n",
    "import lmod\n",
    "await lmod.purge(force=True)\n",
    "await lmod.load('fsl/6.0.7.4')\n",
    "await lmod.load('freesurfer/7.4.1')\n",
    "await lmod.list()\n",
    "\n"
   ]
  },
  {
   "cell_type": "code",
   "execution_count": 8,
   "id": "624b5bc2-7715-400d-ad3b-7162f6cdc79b",
   "metadata": {},
   "outputs": [],
   "source": [
    "####################\n",
    "# Setup FSL path\n",
    "####################\n",
    "loadFSL()\n",
    "\n",
    "###################\n",
    "# Load all relevant libraries for the lab\n",
    "##################\n",
    "import fsl.wrappers\n",
    "from fsl.wrappers import fslmaths\n",
    "\n",
    "import mne_nirs\n",
    "import nilearn\n",
    "from nilearn.datasets import fetch_development_fmri"
   ]
  },
  {
   "cell_type": "code",
   "execution_count": 9,
   "id": "df95e11f-87cb-4086-bcdd-9f1b1a91f9d4",
   "metadata": {},
   "outputs": [],
   "source": [
    "import mne\n",
    "import mne_nirs\n",
    "import dipy\n",
    "from dipy.data import fetch_bundles_2_subjects, read_bundles_2_subjects\n",
    "import xml.etree.ElementTree as ET\n",
    "import os.path as op\n",
    "import nibabel as nib\n",
    "import glob\n",
    "\n",
    "import ants\n",
    "\n",
    "import openneuro\n",
    "from mne.datasets import sample\n",
    "from mne_bids import BIDSPath, read_raw_bids, print_dir_tree, make_report\n",
    "\n",
    "\n",
    "# Useful imports to define the direct download function below\n",
    "import requests\n",
    "import urllib.request\n",
    "from tqdm import tqdm\n",
    "\n",
    "\n",
    "# FSL function wrappers which we will call from python directly\n",
    "from fsl.wrappers import fast, bet\n",
    "from fsl.wrappers.misc import fslroi\n",
    "from fsl.wrappers import flirt\n",
    "\n",
    "# General purpose imports to handle paths, files etc\n",
    "import glob\n",
    "import pandas as pd\n",
    "import numpy as np\n",
    "import json\n",
    "import subprocess"
   ]
  },
  {
   "cell_type": "code",
   "execution_count": 10,
   "id": "f480903a-f4f6-4431-8bd0-84e05dbcf018",
   "metadata": {},
   "outputs": [
    {
     "name": "stderr",
     "output_type": "stream",
     "text": [
      "12:44:33: Debug: Adding duplicate image handler for 'Windows bitmap file'\n",
      "12:44:33: Debug: Adding duplicate animation handler for '1' type\n",
      "12:44:33: Debug: Adding duplicate animation handler for '2' type\n",
      "12:44:33: Debug: Adding duplicate image handler for 'Windows bitmap file'\n",
      "12:44:33: Debug: Adding duplicate animation handler for '1' type\n",
      "12:44:33: Debug: Adding duplicate animation handler for '2' type\n",
      "\n",
      "(ipykernel_launcher.py:11918): Gtk-CRITICAL **: 12:44:34.169: gtk_window_resize: assertion 'height > 0' failed\n"
     ]
    }
   ],
   "source": [
    "################\n",
    "# Start FSLeyes \n",
    "################\n",
    "fsleyesDisplay = FSLeyesServer()\n",
    "fsleyesDisplay.show()"
   ]
  },
  {
   "cell_type": "code",
   "execution_count": 14,
   "id": "797cf596-e628-4bbc-b3c4-ad52c7d0465c",
   "metadata": {},
   "outputs": [
    {
     "name": "stdout",
     "output_type": "stream",
     "text": [
      "|gdrive_ds000171/\n",
      "|--- CHANGES\n",
      "|--- README\n",
      "|--- T1w.json\n",
      "|--- dataset_description.json\n",
      "|--- task-music_bold.json\n",
      "|--- .ipynb_checkpoints/\n",
      "|------ README-checkpoint\n",
      "|------ T1w-checkpoint.json\n",
      "|------ task-music_bold-checkpoint.json\n",
      "|--- sub-control01/\n",
      "|------ anat/\n",
      "|--------- sub-control01_T1w.nii.gz\n",
      "|------ func/\n",
      "|--------- sub-control01_task-music_run-1_bold.nii.gz\n",
      "|--------- sub-control01_task-music_run-1_events.tsv\n",
      "|--------- sub-control01_task-music_run-2_bold.nii.gz\n",
      "|--------- sub-control01_task-music_run-2_events.tsv\n",
      "|--------- sub-control01_task-music_run-3_bold.nii.gz\n",
      "|--------- sub-control01_task-music_run-3_events.tsv\n"
     ]
    }
   ],
   "source": [
    "bids_root = \"gdrive_ds000171\"\n",
    "print_dir_tree(bids_root, max_depth=4)"
   ]
  },
  {
   "cell_type": "code",
   "execution_count": 17,
   "id": "e63125fc-ad46-49e5-a1f4-683a3cfe6abd",
   "metadata": {},
   "outputs": [
    {
     "name": "stdout",
     "output_type": "stream",
     "text": [
      "|sub_control01_preprocessed/\n",
      "|--- anat/\n",
      "|------ T1_to_MNI.mat\n",
      "|------ T1_to_MNI.nii.gz\n",
      "|------ sub-control01_T1w_bet.nii.gz\n",
      "|--- func/\n",
      "|------ concatenated_standardized.nii.gz\n",
      "|------ concatenated_standardized_mc.nii.gz\n",
      "|------ concatenated_standardized_mc.nii.gz.par\n",
      "|------ concatenated_standardized_mc_coreg.mat\n",
      "|------ concatenated_standardized_mc_coreg.nii.gz\n",
      "|------ concatenated_standardized_mc_coreg_fast_wmedge.nii.gz\n",
      "|------ concatenated_standardized_mc_coreg_fast_wmseg.nii.gz\n",
      "|------ concatenated_standardized_mc_coreg_highpassed.nii.gz\n",
      "|------ concatenated_standardized_mc_coreg_highpassed_smoothed.nii.gz\n",
      "|------ concatenated_standardized_mc_coreg_init.mat\n",
      "|------ concatenated_standardized_mc.nii.gz.mat/\n",
      "|------ standardized/\n"
     ]
    }
   ],
   "source": [
    "preproc_root = \"sub_control01_preprocessed\"\n",
    "print_dir_tree(preproc_root, max_depth=2)"
   ]
  },
  {
   "cell_type": "code",
   "execution_count": 18,
   "id": "d0d8055d-b57f-4b1a-a4fa-e0c0dbc498de",
   "metadata": {},
   "outputs": [],
   "source": [
    "# Set directories\n",
    "output_dir_anat = 'sub_control01_preprocessed/anat'\n",
    "output_dir_func = 'sub_control01_preprocessed/func'\n",
    "subject_id = 'sub-control01'\n",
    "mni_template = '/cvmfs/neurodesk.ardc.edu.au/containers/fsl_6.0.7.14_20241018/fsl_6.0.7.14_20241018.simg/opt/fsl-6.0.7.14/data/standard/MNI152_T1_1mm.nii.gz'\n"
   ]
  },
  {
   "cell_type": "code",
   "execution_count": 19,
   "id": "1990f551-5791-4e01-8d5a-add2c76e5882",
   "metadata": {},
   "outputs": [
    {
     "data": {
      "text/plain": [
       "{'TaskName': 'Music',\n",
       " 'RepetitionTime': 3.0,\n",
       " 'EchoTime': 0.025,\n",
       " 'FlipAngle': 90.0,\n",
       " 'SequenceName': 'EPI BOLD',\n",
       " 'Manufacturer': 'Siemens',\n",
       " 'ManufacturersModelName': 'Skyra',\n",
       " 'MagneticFieldStrength': 3.0,\n",
       " 'ParallelImagingReductionFactor': 0,\n",
       " 'SliceTimingComputationMethod': '(slicenum*RepetitionTime/TotalSlices), interleaved according to Siemens even-numbered slice convention (even slices first).',\n",
       " 'SliceTiming': [1.5,\n",
       "  0.0,\n",
       "  1.56,\n",
       "  0.06,\n",
       "  1.62,\n",
       "  0.12,\n",
       "  1.68,\n",
       "  0.18,\n",
       "  1.74,\n",
       "  0.24,\n",
       "  1.8,\n",
       "  0.3,\n",
       "  1.86,\n",
       "  0.36,\n",
       "  1.92,\n",
       "  0.42,\n",
       "  1.98,\n",
       "  0.48,\n",
       "  2.04,\n",
       "  0.54,\n",
       "  2.1,\n",
       "  0.6,\n",
       "  2.16,\n",
       "  0.66,\n",
       "  2.22,\n",
       "  0.72,\n",
       "  2.28,\n",
       "  0.78,\n",
       "  2.34,\n",
       "  0.84,\n",
       "  2.4,\n",
       "  0.9,\n",
       "  2.46,\n",
       "  0.96,\n",
       "  2.52,\n",
       "  1.02,\n",
       "  2.58,\n",
       "  1.08,\n",
       "  2.64,\n",
       "  1.14,\n",
       "  2.7,\n",
       "  1.2,\n",
       "  2.76,\n",
       "  1.26,\n",
       "  2.82,\n",
       "  1.32,\n",
       "  2.88,\n",
       "  1.38,\n",
       "  2.94,\n",
       "  1.44]}"
      ]
     },
     "execution_count": 19,
     "metadata": {},
     "output_type": "execute_result"
    }
   ],
   "source": [
    "def get_json_from_file(fname):\n",
    "    f = open(fname)\n",
    "    data = json.load(f)\n",
    "    f.close()\n",
    "    return data\n",
    "data = get_json_from_file(op.join(bids_root, 'task-music_bold.json'))\n",
    "data"
   ]
  },
  {
   "cell_type": "markdown",
   "id": "2d346503-94cb-42ad-9928-5db6c936eac7",
   "metadata": {},
   "source": [
    "# 1. Anatomical preprocessing\n",
    "## 1.1 Vizualisation: anatomical data"
   ]
  },
  {
   "cell_type": "code",
   "execution_count": 20,
   "id": "a2d611b9-8d86-4fa9-b8ff-0e83529f6def",
   "metadata": {},
   "outputs": [
    {
     "name": "stderr",
     "output_type": "stream",
     "text": [
      "\n",
      "(ipykernel_launcher.py:11918): Gdk-WARNING **: 12:55:11.761: gdkdrawable-x11.c:952 drawable is not a pixmap or window\n"
     ]
    }
   ],
   "source": [
    "fsleyesDisplay.resetOverlays()\n",
    "fsleyesDisplay.load(op.join(bids_root, 'sub-control01', 'anat', 'sub-control01_T1w.nii.gz'))"
   ]
  },
  {
   "cell_type": "markdown",
   "id": "61e969bd-fee8-4eef-a8c9-7861339b4d18",
   "metadata": {},
   "source": [
    "We can observe our first anatomical images: \n",
    "* Left: Coronal view\n",
    "* Center: Transversal view\n",
    "* Right: Sagittal view"
   ]
  },
  {
   "cell_type": "markdown",
   "id": "33f71394-b3f7-4e9c-a036-811dd071941d",
   "metadata": {},
   "source": [
    "## 1.2 Vizualisation: Skull stripping BET"
   ]
  },
  {
   "cell_type": "code",
   "execution_count": 22,
   "id": "a1e1cc44-1965-4142-ac0a-fb86efccd9c3",
   "metadata": {},
   "outputs": [],
   "source": [
    "bet_path = op.join(output_dir_anat, \"sub-control01_T1w_bet.nii.gz\")\n",
    "fsleyesDisplay.load(bet_path)"
   ]
  },
  {
   "cell_type": "markdown",
   "id": "eb3da4b1-d4d6-4b11-ab03-ac22a298ce43",
   "metadata": {},
   "source": [
    "**Observation**: By playing with the layers, we can see that the skull stripping missed some parts."
   ]
  },
  {
   "cell_type": "code",
   "execution_count": 29,
   "id": "f799ec0a-023e-496c-90db-76de4d606a54",
   "metadata": {},
   "outputs": [
    {
     "data": {
      "text/plain": [
       "(256, 256, 176)"
      ]
     },
     "execution_count": 29,
     "metadata": {},
     "output_type": "execute_result"
    }
   ],
   "source": [
    "bet_image = nib.load(bet_path)\n",
    "bet_image.shape"
   ]
  },
  {
   "cell_type": "markdown",
   "id": "3d974547-2a93-4cfc-92f9-95c8be18dbdc",
   "metadata": {},
   "source": [
    "### Improving the fit"
   ]
  },
  {
   "cell_type": "code",
   "execution_count": 32,
   "id": "a76b987d-96de-4c0a-9e63-4a2ba58847c2",
   "metadata": {},
   "outputs": [
    {
     "data": {
      "text/plain": [
       "CompletedProcess(args='bet gdrive_ds000171/sub-control01/anat/sub-control01_T1w.nii.gz sub_control01_preprocessed/anat/sub-control01ADJUSTMENT_T1w_bet.nii.gz -f 0.45 -g 0', returncode=0)"
      ]
     },
     "execution_count": 32,
     "metadata": {},
     "output_type": "execute_result"
    }
   ],
   "source": [
    "## Version Lou\n",
    "data_dir = 'gdrive_ds000171/sub-control01'\n",
    "anat_file = os.path.join(data_dir, 'anat', f'{subject_id}_T1w.nii.gz')\n",
    "bet_output_path_adjust = os.path.join(output_dir_anat, f'{subject_id}ADJUSTMENT_T1w_bet.nii.gz')\n",
    "subprocess.run(f\"bet {anat_file} {bet_output_path_adjust} -f 0.45 -g 0\" , shell=True)"
   ]
  },
  {
   "cell_type": "code",
   "execution_count": 34,
   "id": "fa3ec5e2-ffad-4019-a18a-0fefae3c97e0",
   "metadata": {},
   "outputs": [],
   "source": [
    "fsleyesDisplay.resetOverlays()\n",
    "fsleyesDisplay.load(op.join(bids_root, 'sub-control01', 'anat', 'sub-control01_T1w.nii.gz'))\n",
    "fsleyesDisplay.load(bet_path)\n",
    "fsleyesDisplay.load(bet_output_path_adjust)"
   ]
  },
  {
   "cell_type": "markdown",
   "id": "448ea718-c9c9-4696-a04c-ec70476cbd54",
   "metadata": {},
   "source": [
    "## 1.3.0 MNI"
   ]
  },
  {
   "cell_type": "code",
   "execution_count": 27,
   "id": "88bcb04a-c616-4031-bfcb-8cffe6a73e9e",
   "metadata": {},
   "outputs": [
    {
     "name": "stdout",
     "output_type": "stream",
     "text": [
      "\n",
      "Final result: \n",
      "0.006220 0.002853 -1.112216 204.408173 \n",
      "-0.943018 0.533958 0.001633 177.630188 \n",
      "0.538434 1.083527 -0.014732 -158.840588 \n",
      "0.000000 0.000000 0.000000 1.000000 \n",
      "\n"
     ]
    },
    {
     "data": {
      "text/plain": [
       "{}"
      ]
     },
     "execution_count": 27,
     "metadata": {},
     "output_type": "execute_result"
    }
   ],
   "source": [
    "# Version Lab2\n",
    "from fsl.wrappers import flirt\n",
    "\n",
    "mni_template = op.expandvars(op.join('$FSLDIR', 'data', 'standard', 'MNI152_T1_1mm_brain'))\n",
    "reference = mni_template\n",
    "result = op.join(output_dir_anat, 'T1_to_MNI.nii.gz')\n",
    "target = bet_path\n",
    "\n",
    "flirt(target, reference, out=result)"
   ]
  },
  {
   "cell_type": "markdown",
   "id": "c058e752-faf7-4ec4-b46f-430bb2f0b845",
   "metadata": {},
   "source": [
    "## 1.3.1 Visualisation: MNI template registration (normalization) #step 1.1"
   ]
  },
  {
   "cell_type": "code",
   "execution_count": 51,
   "id": "92fce1f1-0b4e-42b3-8875-581bd737996f",
   "metadata": {},
   "outputs": [],
   "source": [
    "mni_template = op.expandvars(op.join('$FSLDIR', 'data', 'standard', 'MNI152_T1_1mm_brain'))\n",
    "reference = mni_template\n",
    "result = op.join(output_dir_anat, 'T1_to_MNI.nii.gz')\n",
    "\n",
    "fsleyesDisplay.resetOverlays()\n",
    "fsleyesDisplay.load(reference) \n",
    "fsleyesDisplay.load(result)"
   ]
  },
  {
   "cell_type": "markdown",
   "id": "ba925471-dee8-4ea1-8227-d5edb83a7af9",
   "metadata": {},
   "source": [
    "# 2. Functionnal preprocessing"
   ]
  },
  {
   "cell_type": "markdown",
   "id": "65100c11-f2e9-4520-a3fb-5923383c12e3",
   "metadata": {},
   "source": [
    "## 2.1 Standardize each run"
   ]
  },
  {
   "cell_type": "code",
   "execution_count": 41,
   "id": "dcc8b161-989c-4616-a8d9-0ee251e0abae",
   "metadata": {},
   "outputs": [],
   "source": [
    "run = 1\n",
    "std_path = f\"standardized/sub-control01_task-music_run-{run}_bold_standardized.nii.gz\"\n",
    "\n",
    "fsleyesDisplay.resetOverlays()\n",
    "fsleyesDisplay.load(op.join(output_dir_func, std_path))"
   ]
  },
  {
   "cell_type": "code",
   "execution_count": 43,
   "id": "72af9227-1b0b-425b-883e-e54b14275cab",
   "metadata": {},
   "outputs": [
    {
     "data": {
      "text/plain": [
       "(80, 80, 50, 105)"
      ]
     },
     "execution_count": 43,
     "metadata": {},
     "output_type": "execute_result"
    }
   ],
   "source": [
    "# Check image shape\n",
    "std_image = nib.load(op.join(output_dir_func, std_path))\n",
    "std_image.shape"
   ]
  },
  {
   "cell_type": "markdown",
   "id": "af278655-2c96-4263-affc-7dbeffd5f568",
   "metadata": {},
   "source": [
    "## 2.2 Concatenate the 3 runs"
   ]
  },
  {
   "cell_type": "code",
   "execution_count": 44,
   "id": "46516f97-b216-4252-aa27-2beb5f9f64e1",
   "metadata": {},
   "outputs": [],
   "source": [
    "concat_output_path = os.path.join(output_dir_func, 'concatenated_standardized.nii.gz')\n",
    "\n",
    "\n",
    "fsleyesDisplay.resetOverlays()\n",
    "fsleyesDisplay.load(concat_output_path)"
   ]
  },
  {
   "cell_type": "markdown",
   "id": "42a9b398-870b-4cd8-90e6-45b45a2f19c2",
   "metadata": {},
   "source": [
    "## 2.3 Motion correction # step 4"
   ]
  },
  {
   "cell_type": "code",
   "execution_count": 52,
   "id": "c214dae5-98d5-4851-89d8-6ef76d0636ee",
   "metadata": {},
   "outputs": [],
   "source": [
    "mc_output_path = os.path.join(output_dir_func, 'concatenated_standardized_mc.nii.gz')\n",
    "\n",
    "fsleyesDisplay.resetOverlays()\n",
    "fsleyesDisplay.load(mc_output_path)"
   ]
  },
  {
   "cell_type": "code",
   "execution_count": 59,
   "id": "4a8e6507-15ae-4a5d-bb97-0023c12ae544",
   "metadata": {},
   "outputs": [
    {
     "data": {
      "text/plain": [
       "(80, 80, 50, 315)"
      ]
     },
     "execution_count": 59,
     "metadata": {},
     "output_type": "execute_result"
    }
   ],
   "source": [
    "mc_image = nib.load(mc_output_path)\n",
    "mc_image.shape"
   ]
  },
  {
   "cell_type": "code",
   "execution_count": null,
   "id": "f84dae3b",
   "metadata": {},
   "outputs": [],
   "source": [
    "from helper import *\n",
    "import numpy as np\n",
    "import matplotlib.pyplot as plt\n",
    "\n",
    "mots= load_mot_params_fsl_6_dof('sub_control01_preprocessed/func/concatenated_standardized_mc.nii.gz.par')\n",
    "fd=compute_FD_power(mots).to_numpy()\n",
    "threshold = 1 \n",
    "\n",
    "plt.plot(list(range(1,fd.size+1)),fd)\n",
    "plt.xlabel('Volume')\n",
    "plt.ylabel('FD displacement (mm)')\n",
    "plt.hlines(threshold, 0,320,colors='black', linestyles='dashed', label= 'FD limit')\n",
    "plt.legend()\n",
    "plt.show()"
   ]
  },
  {
   "cell_type": "markdown",
   "id": "5011d596",
   "metadata": {},
   "source": [
    "## 2.4 Frequency spectrum"
   ]
  },
  {
   "cell_type": "code",
   "execution_count": null,
   "id": "b6f5d313",
   "metadata": {},
   "outputs": [],
   "source": [
    "\n",
    "from scipy.fft import fft, fftfreq\n",
    "\n",
    "img = nib.load('sub_control01_preprocessed/func/concatenated_standardized_mc.nii.gz')\n",
    "data = img.get_fdata()\n",
    "mean_time_series = data.mean(axis=(0, 1, 2))\n",
    "n_timepoints = mean_time_series.shape[0]\n",
    "sampling_freq = 1/3  \n",
    "\n",
    "# Compute the FFT of the mean time series\n",
    "fft_values = fft(mean_time_series)\n",
    "frequencies = fftfreq(n_timepoints, d=1/sampling_freq)\n",
    "\n",
    "power_spectrum = np.abs(fft_values) ** 2\n",
    "# Only take the positive half of the frequencies and power spectrum\n",
    "positive_frequencies = frequencies[:n_timepoints // 2]\n",
    "positive_power_spectrum = power_spectrum[:n_timepoints // 2]\n",
    "\n",
    "plt.figure(figsize=(10, 6))\n",
    "plt.plot(positive_frequencies, positive_power_spectrum)\n",
    "plt.xlabel('Frequency (Hz)')\n",
    "plt.ylabel('Power')\n",
    "plt.title('Power Spectrum of fMRI Time Series')\n",
    "plt.show()\n"
   ]
  }
 ],
 "metadata": {
  "kernelspec": {
   "display_name": "Python 3.10.13 ('bio482')",
   "language": "python",
   "name": "python3"
  },
  "language_info": {
   "codemirror_mode": {
    "name": "ipython",
    "version": 3
   },
   "file_extension": ".py",
   "mimetype": "text/x-python",
   "name": "python",
   "nbconvert_exporter": "python",
   "pygments_lexer": "ipython3",
   "version": "3.10.13"
  },
  "vscode": {
   "interpreter": {
    "hash": "f9e26a44a8cd8bc81042c0b40fda5e5e745f0a0104cf9945444ccfc7911d4dc7"
   }
  }
 },
 "nbformat": 4,
 "nbformat_minor": 5
}
